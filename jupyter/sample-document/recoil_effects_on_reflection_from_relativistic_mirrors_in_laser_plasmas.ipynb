{
 "cells": [
  {
   "cell_type": "markdown",
   "metadata": {},
   "source": [
    "# Recoil Effects on Reflection from Relativistic Mirrors in Laser Plasmas\n",
    "\n",
    "P. Valenta$^{1, \\, 2, \\, \\mathrm{a)}}$, T. Zh. Esirkepov$^{3}$, J. K. Koga$^{3}$, A. S. Pirozhkov$^{3}$, M. Kando$^{3}$, T. Kawachi$^{3}$, Y.-K. Liu$^{4}$, P. Fang$^{4}$, P. Chen$^{4}$, J. Mu$^{1}$, G. Korn$^{1}$, O. Klimo$^{1, \\, 2}$, and S. V. Bulanov$^{1, \\, 3, \\, 5}$\n",
    "\n",
    "$^{1)}$ ELI Beamlines, Institute of Physics, Czech Academy of Sciences, Na Slovance 2, 18221 Prague, Czech Republic  \n",
    "$^{2)}$ Faculty of Nuclear Sciences and Physical Engineering, Czech Technical University in Prague, Brehova 7, 11519 Prague, Czech Republic  \n",
    "$^{3)}$ Kansai Photon Science Institute, National Institutes for Quantum and Radiological Science and Technology, Umemidai 8-1-7, Kizugawa, 619-0215 Kyoto, Japan  \n",
    "$^{4)}$ Leung Center for Cosmology and Particle Astrophysics, National Taiwan University, No. 1, Sec. 4, Roosevelt Rd., 10617 Taipei, Taiwan, R.O.C.  \n",
    "$^{5)}$ Prokhorov Institute of General Physics, Russian Academy of Sciences, Vavilova 38, 119991 Moscow, Russia\n",
    "\n",
    "$^{\\mathrm{a)}}$ Electronic mail: <petr.valenta@eli-beams.eu>\n",
    "\n",
    "(Dated: 13 February 2020)"
   ]
  },
  {
   "cell_type": "markdown",
   "metadata": {},
   "source": [
    " ### Abstract\n",
    "Relativistic mirrors can be realized with strongly nonlinear Langmuir waves excited by intense laser pulses in underdense plasma. On reflection from the relativistic mirror the incident light affects the mirror motion. The corresponding recoil effects are investigated analytically and with particle-in-cell simulations. It is found that if the fluence of the incident electromagnetic wave exceeds a certain threshold, the relativistic mirror undergoes a significant back reaction and splits into multiple electron layers. The reflection coefficient of the relativistic mirror as well as the factors of electric field amplification and frequency upshift of the electromagnetic wave are obtained.\n",
    "\n",
    "---"
   ]
  },
  {
   "cell_type": "markdown",
   "metadata": {},
   "source": [
    "### I. Introduction\n",
    "\n",
    "A relativistic mirror may be defined as an object that reflects incoming radiation while moving at relativistic velocity. The theory of light reflection from such an object propagating in vacuum at arbitrary (subluminal) velocity was first formulated by Einstein in 1905 \\cite{Einstein1905}. Since then, relativistic mirrors have been studied in many different contexts because of their great potential for both fundamental science and practical applications.\n",
    "\n",
    "An electromagnetic wave incident on a relativistic mirror undergoes energy and frequency change due to the double Doppler effect. In a co-propagating configuration in the laboratory frame of reference, the reflected wave is stretched, its amplitude is lowered and its frequency is downshifted. On the contrary, in a counter-propagating configuration, the reflected wave is compressed, amplified and its frequency is upshifted.\n",
    "\n",
    "Relativistic mirrors can be realized by irradiating plasma targets with intense laser pulses (see Ref.~\\onlinecite{Bulanov2013} for a review and the literature cited therein). They appear in laser plasma as thin dense electron (or electron-ion) shells accelerated to relativistic velocities. Various schemes that lead to the generation of relativistic mirrors have been described in theoretical as well as experimental studies (e.g. double-sided mirror \\cite{Kulagin2007, Kulagin2007a, Esirkepov2009, Meyer-ter-Vehn2009, Bulanov2010, Wu2010, Wu2011, Wu2012, Andreev2013, Kiefer2013, Ma2014}, oscillating mirror \\cite{Bulanov1994, Lichters1996, Naumova2004, Baeva2006, Wheeler2012, Vincenti2019}, sliding mirror \\cite{Pirozhkov2006, Pirozhkov2007a}, flying mirror realized with strongly nonlinear Langmuir waves \\cite{Bulanov2003, Kando2007, Pirozhkov2007, Kando2009, Lobet2013, Koga2018, Moghadasin2019} or electron density singularities \\cite{Mu2019}) and, hence, have already proven the feasibility of this concept.\n",
    "\n",
    "Nowadays, relativistic mirrors in plasmas are actively studied as a unique tool for fundamental research (e.g. light intensification towards the Schwinger limit \\cite{Bulanov2003}, investigation of photon-photon and Delbrück scattering \\cite{Koga2012, Koga2018}, analog black hole to investigate Hawking radiation and the information loss paradox \\cite{Chen2017}) and for many practical applications in diverse fields; depending on whether the configuration is co-propagating or counter-propagating in the laboratory frame of reference, relativistic mirrors might be used either for acceleration of ions (e.g. for hadron therapy \\cite{Bulanov2002}) or for producing coherent high-brightness radiation with wavelengths ranging from x-ray to gamma-ray (e.g. for molecular imaging \\cite{Neutze2000}, attosecond spectroscopy \\cite{Krausz2009}).\n",
    "\n",
    "Maximization of the reflected radiation energy requires a more intense incident electromagnetic wave. However, sufficiently strong incident light can significantly affect the motion of the relativistic mirror (i.e. its radiation pressure can stop or destroy the mirror). In the present paper, we aim at a closer description of the recoil effects on a reflection from the relativistic mirror. We study the interaction of strongly nonlinear Langmuir waves with an incident counter-propagating electromagnetic wave as well as the properties of the reflected radiation. We discuss the regimes when the relativistic mirror undergoes a significant back reaction. We find the threshold of the onset of the recoil effects.\n",
    "\n",
    "The paper is organized as follows: in section~\\ref{sec:recoil} we derive the threshold for the energy of the incident electromagnetic wave, in section~\\ref{sec:langmuir_wave} we discuss the physical realization of relativistic mirrors in laser plasma and in section~\\ref{sec:pic_simulations} we demonstrate the results of one-dimensional (1D) particle-in-cell (PIC) simulations and compare them with the analytical calculations."
   ]
  },
  {
   "cell_type": "markdown",
   "metadata": {},
   "source": [
    "### II. Recoil effects on reflection from relativistic mirrors\n",
    "\n",
    "For a relativistic mirror propagating at constant velocity $ v_M $ in vacuum, the frequency upshift of a normally incident counter-propagating electromagnetic wave is given by \\cite{Einstein1905}\n",
    "\\begin{equation}\\label{eq:upshift_factor}\n",
    "\\frac{\\omega}{\\omega_0} = \\frac{1 + \\beta_M}{1 - \\beta_M} = \\frac{\\gamma_{M} + \\sqrt{\\gamma_{M}^2 - 1}}{\\gamma_{M} - \\sqrt{\\gamma_{M}^2 - 1}} \\approx 4 \\gamma_{M}^2,\n",
    "\\end{equation}\n",
    "where $ \\omega $ and $ \\omega_0 $ are the frequency of the reflected and incident radiation, respectively, $ \\beta_M = v_M / c $ is the velocity of the relativistic mirror normalized by the speed of light in vacuum $ c $ and $ \\gamma_M = 1 / \\sqrt{1 - \\beta_M^2} $ is the corresponding relativistic Lorentz factor. The last term in Eq.~(\\ref{eq:upshift_factor}) is obtained using the identity $ \\gamma_{M} + \\sqrt{\\gamma_{M}^2 - 1} = (\\gamma_{M} - \\sqrt{\\gamma_{M}^2 - 1})^{-1} $ and $ \\gamma_{M} + \\sqrt{\\gamma_{M}^2 - 1} \\approx 2 \\gamma_{M} $ and is valid in the ultra-relativistic limit, i.e. when $ \\gamma_{M} \\gg 1 $. The factor of the electric field amplification of the reflected wave is given by \\cite{Einstein1905}\n",
    "\\begin{equation}\\label{eq:amplification_factor}\n",
    "\\frac{E}{E_0} = \\frac{\\omega}{\\omega_0} \\sqrt{R},\n",
    "\\end{equation}\n",
    "where $ E $ and $ E_0 $ are the electric field of the reflected and incident radiation, respectively, and $ R $ stands for the reflection coefficient in terms of photon number.\n",
    "\n",
    "The above Eqs.~(\\ref{eq:upshift_factor}) and (\\ref{eq:amplification_factor}) are derived in the approximation of a weak incident electromagnetic wave. Here, we analytically investigate the recoil effects of a counter-propagating electromagnetic wave normally incident on a relativistic mirror. This problem was briefly discussed in Ref.~\\onlinecite{Pirozhkov2007a}. First, we consider the relativistic mirror in the form of an electron layer. We assume that all the electrons are characterized by the same momentum, the electromagnetic wave is monochromatic and the reflection coefficient in terms of photon number is equal to $ R $. The conservation of momentum and energy before and after the interaction can be then written as\n",
    "\\begin{eqnarray}\n",
    "\\label{eq:momentum_conservation}\n",
    "\\mathcal{N}_e p_{e0} - \\mathcal{N}_\\gamma p_{\\gamma 0} = \\mathcal{N}_e p_{e} + R \\mathcal{N}_\\gamma p_{\\gamma} - \\left( 1 - R \\right) \\mathcal{N}_\\gamma p_{\\gamma 0} ,\\\\\n",
    "\\label{eq:energy_conservation}\n",
    "\\mathcal{N}_e \\mathcal{E}_{e0} + \\mathcal{N}_\\gamma \\mathcal{E}_{\\gamma 0} = \\mathcal{N}_e \\mathcal{E}_{e} + R \\mathcal{N}_\\gamma \\mathcal{E}_{\\gamma} + \\left( 1 - R \\right) \\mathcal{N}_\\gamma \\mathcal{E}_{\\gamma 0} .\n",
    "\\end{eqnarray}\n",
    "Here, respectively, $ \\mathcal{N}_e $ and $ \\mathcal{N}_{\\gamma} $ are the number of interacting electrons and photons. The subscript \"$ 0 $\" denotes the quantities before the interaction and the \"$ - $\" sign in Eq.~(\\ref{eq:momentum_conservation}) denotes counter-propagating photons. The electron and photon momenta and energies can be expressed as\n",
    "\\begin{eqnarray}\n",
    "\\label{eq:momenta}\n",
    "&p_e = m_e c \\sqrt{\\gamma_{e}^2 - 1}, \\quad p_{\\gamma} = \\hbar \\omega / c ,\\\\\n",
    "\\label{eq:energies}\n",
    "&\\mathcal{E}_e = m_e c^2 \\gamma_e, \\quad \\mathcal{E}_{\\gamma} = \\hbar \\omega ,\n",
    "\\end{eqnarray}\n",
    "where the symbols $ \\hbar $, $ \\gamma_e $ and $ m_e $ denote the reduced Planck constant, the relativistic Lorentz factor of electrons and the electron rest mass, respectively.\n",
    "\n",
    "By combining Eqs.~(\\ref{eq:momentum_conservation}) - (\\ref{eq:energies}) we obtain the following formula:\n",
    "\\begin{eqnarray}\\label{eq:omega}\n",
    "&&\\hbar \\omega = \\hbar \\omega_0 \\frac{\\mathcal{N}_e \\left( \\mathcal{E}_{e0} + p_{e0} c \\right)}{\\mathcal{N}_e \\left( \\mathcal{E}_{e0} - p_{e0} c \\right) + 2 R \\mathcal{N}_\\gamma \\hbar \\omega_0} \\nonumber\\\\\n",
    "&&= \\hbar \\omega_0 \\frac{\\mathcal{N}_e m_e c^2 \\left( \\gamma_{e0} + \\sqrt{\\gamma_{e0}^2 - 1} \\right)}{\\mathcal{N}_e m_e c^2 \\left( \\gamma_{e0} - \\sqrt{\\gamma_{e0}^2 - 1} \\right) + 2 R \\mathcal{N}_\\gamma \\hbar \\omega_0}.\n",
    "\\end{eqnarray}\n",
    "In the ultra-relativistic limit, i.e. when $ \\gamma_{e0} \\gg 1 $, Eq.~(\\ref{eq:omega}) can be simplified as\n",
    "\\begin{equation}\\label{eq:omega_approx}\n",
    "\\frac{\\omega}{\\omega_0} \\approx 4 \\gamma_{e0}^2 \\frac{\\frac{\\mathcal{N}_e m_e c^2}{4 \\gamma_{e0}}}{\\frac{\\mathcal{N}_e m_e c^2}{4 \\gamma_{e0}} + R \\mathcal{N}_\\gamma \\hbar \\omega_0}.\n",
    "\\end{equation}\n",
    "The two terms in the denominator of Eq.~(\\ref{eq:omega_approx}) correspond to the energy of the electron layer and interacting photons, respectively. The resulting frequency upshift of the reflected radiation is determined by the relation between both terms:\n",
    "\\begin{subequations}\n",
    "\t\\begin{eqnarray}\n",
    "\t&\\omega/\\omega_0& \\ \\approx \\ 4 \\gamma_{e0}^2 \\quad \\mathrm{for} \\quad R \\mathcal{N}_\\gamma \\hbar \\omega_0 \\ll \\frac{\\mathcal{N}_e m_e c^2}{4 \\gamma_{e0}}, \\label{eq:low_energy} \\\\\n",
    "\t&\\omega/\\omega_0& \\ \\approx \\ \\frac{\\mathcal{N}_e m_e c^2 \\gamma_{e0}}{R \\mathcal{N}_\\gamma \\hbar \\omega_0} \\quad \\mathrm{for} \\quad R \\mathcal{N}_\\gamma \\hbar \\omega_0 \\gg \\frac{\\mathcal{N}_e m_e c^2}{4 \\gamma_{e0}}. \\quad \\label{eq:high_energy}\t\n",
    "\t\\end{eqnarray}\n",
    "\\end{subequations}\n",
    "The limit~(\\ref{eq:low_energy}) corresponds to the approximation of a weak incident electromagnetic wave, and produces the classical frequency upshift factor corresponding to the double Doppler effect (see Eq.~(\\ref{eq:upshift_factor})). In the opposite limit~(\\ref{eq:high_energy}), the incident radiation significantly affects the motion of relativistic mirror, so that the frequency of the reflected electromagnetic wave is in fact downshifted by the factor of $ \\mathcal{N}_e m_e c^2 \\gamma_{e0} / \\left( R \\mathcal{N}_\\gamma \\hbar \\omega_0 \\right)  \\ll 1 $.\n",
    "\n",
    "We define the threshold characterizing the recoil importance in this interaction as a midpoint between the limits given by Eqs.~(\\ref{eq:low_energy}) and (\\ref{eq:high_energy}), when the energy of the interacting photons is comparable to that of the electron layer,\n",
    "\\begin{equation}\\label{eq:threshold}\n",
    "R \\mathcal{N}_\\gamma \\hbar \\omega_0 = \\varkappa \\frac{\\mathcal{N}_e m_e c^2}{4 \\gamma_{e0}},\n",
    "\\end{equation}\n",
    "where $ \\varkappa < 1 $ is a small factor. Obviously, much less energy than the kinetic energy of the mirror can affect the reflection process."
   ]
  },
  {
   "cell_type": "markdown",
   "metadata": {},
   "source": [
    "### III. Relativistic mirror realized with a Langmuir wave\n",
    "\n",
    "A sufficiently short and intense laser pulse excites a strongly nonlinear Langmuir wave in underdense plasma \\cite{Bulanov2016, Esarey2009}. The electron density modulations of the Langmuir wave in the wake of the laser pulse take the form of thin dense shells separated by cavities of length corresponding to the Langmuir wave wavelength $ \\lambda_w $. A weak counter-propagating electromagnetic wave is partially reflected from these shells, undergoing energy and frequency change in accordance with the double Doppler effect. For this case, Eq.~(\\ref{eq:upshift_factor}) becomes \\cite{Bulanov2013}\n",
    "\\begin{eqnarray}\\label{eq:upshift_factor_plasma}\n",
    "&&\\frac{\\omega}{\\omega_0} = \\frac{1}{1 - \\beta_w^2}\\left(1 + \\beta_w^2 + 2 \\beta_w \\sqrt{1 - \\frac{\\omega_{pe}^2}{\\omega_0^2}} \\right) \\nonumber \\\\\n",
    "&&= 2 \\gamma_w^2 + 2 \\gamma_w \\sqrt{\\gamma_w^2 - 1} \\sqrt{1 - \\frac{\\omega_{pe}^2}{\\omega_0^2}} - 1,\n",
    "\\end{eqnarray}\n",
    "so that it includes the difference between the phase and group velocity in plasma. Here, $ \\omega_{pe} = \\sqrt{4 \\pi n_e e^2 / m_e} $ is the Langmuir frequency corresponding to the background electron density $ n_e $, $ \\beta_w $ is the phase velocity of the Langmuir wave normalized by $ c $ and $ \\gamma_w = 1 / \\sqrt{1 - \\beta_w^2}$ is the corresponding relativistic Lorentz factor. The symbol $ e $ stands for the electron charge.\n",
    "\n",
    "If the velocity of the electrons in the vicinity of the electron density spike exceeds the phase velocity of the Langmuir wave, i.e. $ \\gamma_e > \\gamma_w $, the Langmuir wave breaks. This corresponds to the Akhiezer-Polovin limit \\cite{Akhiezer1956} for the longitudinal electric field, $ E_x $, of the Langmuir wave,\n",
    "\\begin{equation}\\label{eq:akhiezer-polovin}\n",
    "\\frac{\\max \\left| E_x \\right| e}{m_e \\omega_{pe} c} > \\sqrt{2 \\left(\\gamma_w - 1 \\right)}.\n",
    "\\end{equation}\n",
    "For the Langmuir wave at the threshold of wave-breaking, its reflection coefficient in terms of photon number, $ R $, is (see Ref.~\\onlinecite{Bulanov2013})\n",
    "\\begin{equation}\\label{eq:refl_coef}\n",
    "R \\approx \\frac{\\Gamma^2\\left( 2 / 3 \\right) }{2^2 \\cdot 3^{4/3}}\\left(\\frac{\\omega_{pe}}{\\omega_0} \\right)^{8/3} \\frac{1}{\\gamma_w^{4/3}},\n",
    "\\end{equation}\n",
    "where $ \\Gamma (x)$ is the Euler gamma function~\\cite{Abramowitz1965}.\n",
    "\n",
    "In order to estimate the threshold given by Eq.~(\\ref{eq:threshold}) for the relativistic mirror realized with a breaking Langmuir wave, we represent, for simplicity, the incident laser pulse as an electromagnetic wavepacket with a rectangular profile and intensity $ I $, duration $ \\tau $ and cross-sectional area $ S $. We assume normal incidence of this wavepacket on the relativistic mirror. The number of photons in the pulse, $ \\mathcal{N}_\\gamma $, is given by the following expression,\n",
    "\\begin{equation}\\label{eq:n_photons}\n",
    "\\mathcal{N}_\\gamma = \\frac{I \\tau S}{\\hbar \\omega_0}.\n",
    "\\end{equation}\n",
    "For a nearly-breaking Langmuir wave, for which Eq.~(\\ref{eq:refl_coef}) holds, approximately half of the plasma electrons are concentrated in the electron density spike in each wave period. Therefore, the number of interacting electrons, $ \\mathcal{N}_e $, is\n",
    "\\begin{equation}\\label{eq:n_electrons}\n",
    "\\mathcal{N}_e = \\frac{n_e}{2} \\lambda_w S.\n",
    "\\end{equation}\n",
    "\n",
    "Using the reflection coefficient of the Langmuir wave of Eq.~(\\ref{eq:refl_coef}), and, respectively, the number of interacting photons and electrons of Eqs.~(\\ref{eq:n_photons}) and (\\ref{eq:n_electrons}), we rewrite the threshold of Eq.~(\\ref{eq:threshold}) in terms of the fluence (the product of intensity and duration) of the incident wavepacket:\n",
    "\\begin{eqnarray}\\label{eq:it_product}\n",
    "&&I \\tau = \\varkappa \\frac{m_e c^2}{8} \\frac{n_e \\lambda_w}{\\gamma_w R} \\nonumber \\\\\n",
    "&&= \\varkappa \\frac{3^{4/3} m_e c^2}{2 \\Gamma^2\\left( 2 / 3 \\right)} \\left(\\frac{\\omega_0}{\\omega_{pe}} \\right)^{8/3} \\gamma_w^{1/3} n_e \\lambda_w.\n",
    "\\end{eqnarray}\n",
    "As can be seen from this formula, even a low intensity electromagnetic wavepacket is able to destroy the mirror, if it is sufficiently long. However, the relativistic mirror realized with the Langmuir wave consists of electrons that are continuously flowing through it. Consequently, the structure of the electron density spike is being refreshed every moment in time. Thus, the applicability of the model given by Eqs.~(\\ref{eq:momentum_conservation}) - (\\ref{eq:energies}) is better for a short-time interaction and sufficiently large electromagnetic wave intensity. We intrepret the threshold of Eq.~(\\ref{eq:it_product}) as a condition for the minimum wavepacket duration required for a recoil effect,\n",
    "\\begin{eqnarray}\\label{eq:tau_min}\n",
    "\\tau_{min} = \\varkappa \\frac{3^{4/3} m_e c^2}{2 \\Gamma^2\\left( 2 / 3 \\right)} \\left(\\frac{\\omega_0}{\\omega_{pe}} \\right)^{8/3} \\gamma_w^{1/3} \\frac{n_e \\lambda_w}{I}.\n",
    "\\end{eqnarray}\n",
    "In this interpretation, the incident wavepacket intensity becomes the main critical parameter for the recoil effects. Below, we investigate the applicability of the model and, in particular, Eq.~(\\ref{eq:tau_min}) by PIC simulations."
   ]
  },
  {
   "cell_type": "markdown",
   "metadata": {},
   "source": [
    "### IV. Particle-in-cell simulations\n",
    "\n",
    "The properties of relativistic mirrors realized with strongly nonlinear Langmuir waves in underdense plasmas are studied numerically by means of PIC simulations in a 1D Cartesian geometry. The 1D configuration is sufficient for the investigation of the Langmuir wave interaction with a counter-propagating laser pulse and beneficial in view of the necessity of resolving frequency upshifted electromagnetic radiation according to Eq.~(\\ref{eq:upshift_factor_plasma}). The results can be extrapolated to higher dimensions considering laser pulses with a wide focal spot. The simulations are performed using the fully relativistic electromagnetic PIC EPOCH code \\cite{Arber2015}.\n",
    "\n",
    "#### A. Simulation Setup\n",
    "\n",
    "The laser pulse that drives the Langmuir wave (from here on referred to as the \"driver\") enters the simulation domain from the left boundary and propagates in the $ +x $ direction. The laser pulse that undergoes the reflection from the Langmuir wave (from here on referred to as the \"source\") enters from the right and propagates in the opposite (i.e. $ -x $) direction. In the following, we use the superscripts \"$ d $\", \"$ s $\" and \"$ r $\" to denote the quantities which characterize the driver, the source and the reflected pulse, respectively.\n",
    "\n",
    "The driver is characterized by a wavelength in vacuum $ \\lambda_{0}^d = 2 \\pi c / \\omega_{0}^d $, where $ \\omega_{0}^d $ is its angular frequency, and by the normalized amplitude $ a_0^d = 10 $ defined as $ a_0^d = e E_0^d / (m_e \\omega_0^d c) $, where $ E_0^d $ is amplitude of the electric field in vacuum. Its temporal profile is Gaussian with a full-width-at-half-maximum duration $ \\tau_0^d = 10 \\ T_0^d $, where $ T_0^d = \\lambda_{0}^d / c $ is the driver pulse cycle period. The values of $ a_0^d $ and $ \\tau_0^d $ are set so that they are optimal for the Langmuir wave generation \\cite{Bulanov2016, Esarey2009}; the driver amplitude $ a_0^d $ is set to be sufficiently high in order to excite a large amplitude nonlinear wave which breaks in a controlled way and the driver duration $ \\tau_0^d $ is chosen such that the wave is excited resonantly (i.e. $ c \\tau_0^d \\approx \\lambda_w / 2 $). The driver is linearly polarized with the electric field directed along the $ y $-axis.\n",
    "\n",
    "The wavelength of the source pulse is $ \\lambda_0^s = 5 \\ \\lambda_0^d $. By this choice we keep $ \\lambda_0^s $ sufficiently short so that the effects of plasma dispersion on the source are not significant, but long enough to substantially reduce the computational demands of the simulations. The source has a semi-infinite flat-top temporal profile which allows us to analyze the simulation results more clearly. The normalized amplitude of the source, $ a_0^s $, is varied in the simulations in order to thoroughly describe its impact on the reflection from the Langmuir wave. The source is linearly polarized in the direction perpendicular to the driver polarization (i.e. along the $ z $-axis), thus its electromagnetic field can be clearly distinguished.\n",
    "\n",
    "Both laser pulses, the driver and the source, propagate in a pre-ionized uniform hydrogen plasma with electron and proton densities $ n_{e, p}^{0} = 10^{-2} \\ n_c^d $, where $ n_c^d = m_e (\\omega_0^d)^2 / (4 \\pi e^2) $ is the critical plasma density with respect to the driver pulse. A smooth ramp is added to the left side of the target in order to reduce the effect of wave-breaking from a sharp rising plasma edge \\cite{Bulanov1990}. The ramp is defined by the function $ n_{e, p} \\left( x \\right) = n_{e, p}^{0} \\ (3 - 2 (x - x_1)/(x_2 - x_1)) ((x - x_1)/(x_2 - x_1))^2 $, where $ x \\in \\left[ x_1, \\ x_2 \\right] $. The values $ x_1 = 0 $ and $ x_2 = 80 \\ \\lambda_0^d $ have proven to provide a sufficiently smooth transition (one can see the plot of the density ramp $ n_{e, p} \\left( x \\right) $ in Fig.~\\ref{fig:density_ramp}). The plasma is cold and collisionless. The electrons and protons are represented by quasi-particles with a triangular shape function. The number of quasi-particles per cell is $ 10 $ for both particle species. The smooth ramp in the plasma density profile is constructed by varying the weight of the quasi-particles (i.e. the number of real particles represented by each quasi-particle).\n",
    "\n",
    "The simulations utilize a moving window technique \\cite{Fidel1997} which allows to substantially decrease the length of the simulation domain. For this, the EPOCH code was modified in order to continuously introduce source pulse at the right boundary of the moving widow. The length of the simulation window is $ 80 \\ \\lambda_0^d $ and it moves along the driver propagation direction at a velocity equal to $ c $. The resolution of the Cartesian grid is $ 30 $ cells per theoretically estimated wavelength of the reflected radiation $ \\lambda^r $. The value of $ \\lambda^r $ is calculated using Eq.~(\\ref{eq:upshift_factor}), where we estimate $ \\gamma_M \\approx \\omega_0^d / \\omega_{pe} $. The simulation domain thus contains $ 1.92 \\times 10^{5} $ cells in total and the simulation time is set to $ 450 \\ T_0^d $. The electromagnetic fields are calculated using the standard second-order Yee solver \\cite{Yee1966} with the CFL number \\cite{Courant1928} equal to $ 0.99 $. Absorbing boundary conditions are applied on each of the simulation domain sides for both the electromagnetic field and particles.\n",
    "\n",
    "#### B. Simulation Results\n",
    "\n",
    "First, we present the results of the simulation where the normalized amplitude of the source is relatively low, $ a_0^s = 10^{-4} $, in order to avoid recoil effects and significant distortions of the Langmuir wave. The driver pulse starts to excite the Langmuir wave as soon as it enters the plasma. When the driver reaches the uniform plasma density region, the Langmuir wave takes the form of sharp electron density spikes separated by cavities. We consider the properties of the first electron density spike of the Langmuir wave formed behind the driver, which serves as a relativistic mirror. The first important parameter of the density spike in our study is its phase velocity because it determines the magnitudes of the carrier frequency upshift and electric field amplification of the reflected wave (see Eqs.~(\\ref{eq:upshift_factor}) and (\\ref{eq:amplification_factor})). \n",
    "\n",
    "Fig.~\\ref{fig:beta_gamma}(a) shows the evolution of the first electron density spike of the Langmuir wave behind the driver in the $ x - t $ plane, (b) its normalized phase velocity $ \\beta_w $ and (c) the corresponding relativistic Lorentz factor $ \\gamma_w $. The moment of wave-breaking, $ t \\approx 190 \\ T_0^d $, is in Fig.~\\ref{fig:beta_gamma} denoted by black dashed lines. It corresponds to the limit given by Eq.~(\\ref{eq:akhiezer-polovin}). At this moment, the electron density spike is centered around the point $ x \\approx 150 \\ \\lambda_0^d $. The reflectivity of the Langmuir wave becomes significant when the wave is closer to breaking \\cite{Bulanov2013}. After the wave-breaking, it is determined not only by the properties of the regular Langmuir wave, but also by the properties of the injected electrons. From Fig.~\\ref{fig:beta_gamma}, it can be clearly seen that the Langmuir wave decelerates in uniform plasma, which is partially caused due to nonlinear energy depletion of the driver \\cite{Bulanov1992} and due to the wave-breaking. The simulation results are analyzed from $ t_0 = 150 \\ T_0^d $, when the first density spike of the Langmuir wave can be clearly localized, until $ t_1 = 450 \\ T_0^d $. As can be seen from Fig.~\\ref{fig:beta_gamma}(c), $ \\gamma_w \\approx 1 $ for $ t \\geq t_1 $ and, therefore, further reflection is not very interesting in the context of the generation of coherent short-wavelength radiation (see Eq.~(\\ref{eq:upshift_factor_plasma})). We also note that since the density spikes lag behind the fronts of light reflected from them, at $ t = t_1 $ the front of light reflected from the second density spike catches up the first density spike,\n",
    "\\begin{equation}\n",
    "c \\int_{t_0}^{t_1} \\left(1 - \\beta_w\\left(t \\right) \\right) dt \\approx \\lambda_w,\n",
    "\\end{equation}\n",
    "thus the radiation continuously reflected from the second density spike starts to interfere with the radiation reflected from the first density spike.\n",
    "\n",
    "The spatial profile of the electromagnetic radiation reflected from the first density spike observed at $ t = 450 \\ T_0^d $ is shown in Fig.~\\ref{fig:refl_wave}(a). As can be clearly seen, its envelope is modulated. The modulations are caused by the electrons injected into the accelerating phase of the wakefield after the wave-breaking, which is shown in Fig.~\\ref{fig:refl_wave}(b). Fig.~\\ref{fig:refl_wave}(c) displays the local carrier wavenumber of the reflected pulse. To obtain the local carrier wavenumber at any point in a reflected wavepacket, we first find the analytic signal from the original signal using the Hilbert transform \\cite{King2009}. The local carrier wavenumber is then obtained by differentiating the local phase (which corresponds to the phase angle of the analytic signal) with respect to $ x $. It can be clearly seen that the reflected signal has a positive chirp which corresponds to the mirror deceleration. The wavelength of the reflected signal $ \\lambda^r $ ranges from $ \\approx 0.17 \\ \\lambda_0^s $ to $ \\approx 3.3 \\times 10^{-3} \\ \\lambda_0^s $, hence the upshift factor with respect to $ \\omega_0^s $ ranges from $ 6 $ to $ 298 $. Due to the effects of plasma dispersion, however, the wavelength of the source pulse interacting with the electron density spike is slightly larger than the vacuum wavelength, $ \\lambda^s \\approx 1.04 \\ \\lambda_0^s $. Thus the maximum factor of the frequency upshift with respect to $ \\omega^s $ is about $ 310 $. From this frequency upshift factor using Eq.~(\\ref{eq:upshift_factor_plasma}) we can estimate the relativistic Lorentz factor of the electron density spike as $ \\gamma_w \\approx 9.2 $, which corresponds to the instant of time $ t \\approx 140 \\ T_0^d $. \n",
    "\n",
    "Using the dependence of the local carrier wavenumber of the reflected pulse on the electron density spike coordinate $ k_{loc}^r (x) $ and the dependence of the spike coordinate on time $ x^{*} (t) $, we obtain the time dependence of the frequency upshift factor of the reflected pulse,\n",
    "\\begin{equation}\n",
    "\\frac{\\omega^r}{\\omega_0^s} = \\frac{k_0^s}{k_{loc}^r(x^{*}(t))}.\n",
    "\\end{equation}\n",
    "As seen in Fig.~\\ref{fig:upshift_amplification}(a), the frequency upshift factor obtained in this way very well agrees with the calculation using Eq.~(\\ref{eq:upshift_factor_plasma}) and the relativistic Lorentz factor of the electron density spike $ \\gamma_w $ shown in Fig.~\\ref{fig:beta_gamma}(c).\n",
    "\n",
    "Using the dependence of the reflected pulse electric field envelope amplitude on the spike coordinate $ E_{env}^r(x^{*}(t)) $, we obtain the time dependence of the electric field amplification factor,\n",
    "\\begin{equation}\n",
    "\\frac{E_{env}^r}{E_0^s} = \\frac{E_{env}^r(x^{*}(t))}{E_0^s}.\n",
    "\\end{equation}\n",
    "As seen in Fig.~\\ref{fig:upshift_amplification}(b), the electric field amplification factor obtained in this way shows again fairly good conformity with the calculation using Eqs.~(\\ref{eq:upshift_factor_plasma}) and (\\ref{eq:refl_coef}) and the relativistic Lorentz factor of the electron density spike $ \\gamma_w $ shown in Fig.~\\ref{fig:beta_gamma}(c). We find that the electric field amplification factor reaches its maximum at the moment of wave-breaking, with the electric field of the reflected pulse being amplified more than 6 times. Contrary to the analytical calculation, the amplification factor obtained from the simulation comprise visible oscillations. As discussed above, this feature corresponds to the modulations of the envelope of the reflected pulse caused by the electrons injected into the accelerating phase of the wakefield (see Fig.~\\ref{fig:refl_wave}(b)).\n",
    "\n",
    "Using the factors of the frequency upshift and the electric field amplification of the reflected pulse shown in Fig.~\\ref{fig:upshift_amplification}(a) and (b), we reconstruct the instantaneous reflection coefficient of the electron density spike in time, Fig.~\\ref{fig:upshift_amplification}(c). For comparison, in Fig.~\\ref{fig:upshift_amplification}(c) we also plot the instantaneous reflection coefficient computed using Eq.~(\\ref{eq:refl_coef}) and the relativistic Lorentz factor $ \\gamma_w $ shown in Fig.~\\ref{fig:beta_gamma}(c). We find that the reflection coefficient in terms of photon number grows from $ \\approx 10^{-3} $ at the moment of wave-breaking up to $ \\approx 5 \\times 10^{-2} $ at the end of the interaction.\n",
    "\n",
    "In order to investigate the recoil effects and explore the regimes around the threshold given by Eq.~(\\ref{eq:it_product}), we increase the amplitude of the source. Now, the source pulse encounters the electron density spike at the moment of wave-breaking ($ t = 190 \\ T_0^d $). Its normalized amplitude $ a_0^s $ is varied from $ 0.01 $ to $ 1 $. The reflected radiation for the simulated cases can be seen in Fig. \\ref{fig:energy_threshold}(a). In the case of $ a_0^s = 0.01 $, the interaction corresponds to the weak incident pulse approximation and the impact of the source pulse is compensated by the electron flow that refreshes the structure of the density spike. For much larger amplitude, $ a_0^s = 1 $, only one cycle of the reflected wave is formed before the relativistic mirror is destroyed. Moreover, the radiation pressure of the source pulse in this case pushes the mirror back which results in lower factors of the frequency upshift and the electric field amplification.\n",
    "\n",
    "The threshold~(\\ref{eq:tau_min}) gives the minimal duration of the incident electromagnetic wave necessary to cause a significant recoil on the relativistic mirror. In terms of normalized quantities, this duration can be rewritten as\n",
    "\\begin{equation}\\label{eq:tau_min_normalized}\n",
    "\\tau_{0, min}^s = \\frac{\\varkappa}{4} \\frac{n_e \\lambda_w \\lambda_0^s}{\\gamma_w R \\left(a_0^s\\right)^2},\n",
    "\\end{equation}\n",
    "where $ \\tau_{0, min}^s $ is normalized by $ T_0^s $, $ \\lambda_0^s $ and $ \\lambda_w $ by $ \\lambda_0^d $ and $ n_e $ by $ n_c^d $. This quantity is shown in Fig.~\\ref{fig:energy_threshold}(a), for different source pulse amplitudes and $ \\varkappa = 1.5 \\times 10^{-4} $. The value of the coefficient $ \\varkappa $ is obtained from the comparison of the spatial profiles of the reflected wave for different incident wavepacket amplitudes. We assume that the duration $ \\tau_{0,min}^s $ roughly corresponds to the time period where the reflected wave coincides with the weak-source approximation. We see that for $ a_0^s = 0.01 $ the reflected wave corresponds to the weak-source approximation and classical double Doppler effect. Here $ \\tau_{0, min}^s $ is very large. For $ a_0^s = 1 $, the recoil effects are well pronounced; the spatial profile of the reflected wave deviates from the weak-source approximation almost immediately. In this case $ \\tau_{0, min}^s $ is almost zero. Between $ a_0^s = 0.01 $ and $ a_0^s = 1 $, the properties of the spatial profile of the reflected wave correlate with the minimum source duration causing recoil effects given by Eq.~(\\ref{eq:tau_min_normalized}), derived from the model (\\ref{eq:momentum_conservation}) - (\\ref{eq:energies}).\n",
    "\n",
    "A time span needed for a density spike to be fully refreshed by the electron flow can be roughly estimated as $ t_{ref} \\approx \\lambda_w / v_g^d \\approx 20.53 \\ T_0^d $, where $ v_g^d $ is the group velocity of the driver pulse. During this time span, the density spike interacts approximately with $ 7.62 $ cycles of the source pulse. Therefore, if $ \\tau_{0, min}^s > 7.62 \\ T_0^s $ the impact of the source pulse on the density spike is compensated by the flow of electrons and the interaction corresponds to the weak-source approximation. Using Eq.~(\\ref{eq:tau_min_normalized}) with $ \\varkappa = 1.5 \\times 10^{-4} $, this condition is equivalent to $ a_0^s < 0.026 $.\n",
    "\n",
    "In Fig.~\\ref{fig:energy_threshold}(b) and (c), one can see the phase space of electrons located in the density spike illustrating the importance of the recoil effects of the relativistic mirror for two different amplitudes of the source pulse. For relatively small amplitudes, the structure of the electron density spike and the injected electrons (appearing after wave-breaking) are not affected, Fig.~\\ref{fig:energy_threshold}(b). When the intensity of the source pulse becomes sufficient to alter the motion of the electrons in the density spike, the spike splits into several layers, Fig.~\\ref{fig:energy_threshold}(c). The disappearance of the periodic structure of the reflected electromagnetic wave seen in Fig.~\\ref{fig:energy_threshold}(a) for $ a_0^s \\geq 0.05 $ is partially due to destructive interference of waves reflected from the multi-layered structure of the split electron density spike and due to the recoil effects."
   ]
  },
  {
   "cell_type": "markdown",
   "metadata": {},
   "source": [
    "### V. Conclusion\n",
    "\n",
    "We study recoil effects of relativistic mirrors in the form of strongly nonlinear Langmuir waves driven by short intense laser pulses in underdense plasmas. This is important for the question of the feasibility of relativistic mirrors for the development of compact and tunable sources of coherent short-wavelength radiation. Using analytical calculations and PIC simulations, we investigate the properties of the Langmuir wave as well as the reflected pulse. We also find the threshold for the energy of the laser pulse incident on the electron density spike above which the relativistic mirror undergoes significant recoil. \n",
    "\n",
    "We show that the Langmuir wave driven by a short intense laser pulse in uniform plasma decelerates and, therefore, the reflected radiation has a positive chirp. We find that the electric field amplification factor of the reflected radiation reaches its maximum at the moment of wave-breaking. In addition, our results show that for a given intensity of the source pulse there exists an optimal duration of the source pulse; longer-than-optimal pulses have lower reflected-to-incident energy ratio. Moreover, for a given Langmuir wave excited by the driver pulse there exists an optimal intensity of the source pulse which provides the most intense reflected wave with almost the same frequency upshift factor as in the weak-source approximation.\n",
    "\n",
    "The sources of coherent high-brightness radiation with wavelengths ranging from x-ray to gamma-ray are of great demand for many practical applications in diverse fields. Relativistic mirrors in laser plasmas can give a promising alternative for the development of radiation sources with tunable parameters at significantly reduced size and cost, in comparison with conventional devices."
   ]
  },
  {
   "cell_type": "markdown",
   "metadata": {},
   "source": [
    "---\n",
    "\n",
    "### Acknowledgements\n",
    "\n",
    "This work was supported by the project High Field Initiative (CZ.02.1.01/0.0/0.0/15\\_003/0000449) from the European Regional Development Fund and by the project \"IT4Innovations National Supercomputing Center – LM2015070\" from The Ministry of Education, Youth and Sports of the Czech Republic. This work was in part funded by the UK EPSRC grants EP/G054950/1, EP/G056803/1, EP/G055165/1 and EP/M022463/1.\n",
    "\n",
    "### Bibliography\n",
    "-"
   ]
  },
  {
   "cell_type": "code",
   "execution_count": 3,
   "metadata": {},
   "outputs": [
    {
     "ename": "ModuleNotFoundError",
     "evalue": "No module named 'sdf'",
     "output_type": "error",
     "traceback": [
      "\u001b[0;31m---------------------------------------------------------------------------\u001b[0m",
      "\u001b[0;31mModuleNotFoundError\u001b[0m                       Traceback (most recent call last)",
      "\u001b[0;32m<ipython-input-3-e0c6184b4454>\u001b[0m in \u001b[0;36m<module>\u001b[0;34m\u001b[0m\n\u001b[1;32m      7\u001b[0m \u001b[0;32mfrom\u001b[0m \u001b[0mscipy\u001b[0m\u001b[0;34m.\u001b[0m\u001b[0msignal\u001b[0m \u001b[0;32mimport\u001b[0m \u001b[0mhilbert\u001b[0m\u001b[0;34m,\u001b[0m \u001b[0msavgol_filter\u001b[0m\u001b[0;34m\u001b[0m\u001b[0;34m\u001b[0m\u001b[0m\n\u001b[1;32m      8\u001b[0m \u001b[0;32mfrom\u001b[0m \u001b[0mscipy\u001b[0m\u001b[0;34m.\u001b[0m\u001b[0mspecial\u001b[0m \u001b[0;32mimport\u001b[0m \u001b[0mgamma\u001b[0m \u001b[0;32mas\u001b[0m \u001b[0meuler_gamma\u001b[0m\u001b[0;34m\u001b[0m\u001b[0;34m\u001b[0m\u001b[0m\n\u001b[0;32m----> 9\u001b[0;31m \u001b[0;32mimport\u001b[0m \u001b[0msdf\u001b[0m\u001b[0;34m\u001b[0m\u001b[0;34m\u001b[0m\u001b[0m\n\u001b[0m",
      "\u001b[0;31mModuleNotFoundError\u001b[0m: No module named 'sdf'"
     ]
    }
   ],
   "source": [
    "import numpy as np\n",
    "import matplotlib as mpl\n",
    "mpl.rcParams['axes.linewidth'] = 2.0\n",
    "import matplotlib.pyplot as plt\n",
    "from scipy.constants import c, m_e, elementary_charge, epsilon_0, pi\n",
    "from scipy.io import loadmat\n",
    "from scipy.signal import hilbert, savgol_filter\n",
    "from scipy.special import gamma as euler_gamma\n",
    "import sdf"
   ]
  },
  {
   "cell_type": "code",
   "execution_count": null,
   "metadata": {},
   "outputs": [],
   "source": [
    "lambda0_d = 1.0e-6\n",
    "lambda0_s = 5.0e-6\n",
    "omega0_d = 2.0 * pi * c / lambda0_d\n",
    "omega0_s = 2.0 * pi * c / lambda0_s\n",
    "k0_s = 2.0 * pi / lambda0_s\n",
    "a0_s = 1.0e-4\n",
    "omega_pe = 0.1 * omega0_d\n",
    "nc_d = epsilon_0 * m_e * omega0_d**2 / elementary_charge**2"
   ]
  },
  {
   "cell_type": "code",
   "execution_count": 2,
   "metadata": {},
   "outputs": [
    {
     "ename": "NameError",
     "evalue": "name 'lambda0_d' is not defined",
     "output_type": "error",
     "traceback": [
      "\u001b[0;31m---------------------------------------------------------------------------\u001b[0m",
      "\u001b[0;31mNameError\u001b[0m                                 Traceback (most recent call last)",
      "\u001b[0;32m<ipython-input-2-cf0f1efe6f6c>\u001b[0m in \u001b[0;36m<module>\u001b[0;34m\u001b[0m\n\u001b[1;32m      1\u001b[0m \u001b[0mbeta\u001b[0m \u001b[0;34m=\u001b[0m \u001b[0mnp\u001b[0m\u001b[0;34m.\u001b[0m\u001b[0mravel\u001b[0m\u001b[0;34m(\u001b[0m\u001b[0mnp\u001b[0m\u001b[0;34m.\u001b[0m\u001b[0mreal\u001b[0m\u001b[0;34m(\u001b[0m\u001b[0mloadmat\u001b[0m\u001b[0;34m(\u001b[0m\u001b[0;34m\"./data/01/beta.mat\"\u001b[0m\u001b[0;34m)\u001b[0m\u001b[0;34m[\u001b[0m\u001b[0;34m\"beta\"\u001b[0m\u001b[0;34m]\u001b[0m\u001b[0;34m)\u001b[0m\u001b[0;34m)\u001b[0m\u001b[0;34m\u001b[0m\u001b[0;34m\u001b[0m\u001b[0m\n\u001b[1;32m      2\u001b[0m \u001b[0mgamma\u001b[0m \u001b[0;34m=\u001b[0m \u001b[0mnp\u001b[0m\u001b[0;34m.\u001b[0m\u001b[0mravel\u001b[0m\u001b[0;34m(\u001b[0m\u001b[0mnp\u001b[0m\u001b[0;34m.\u001b[0m\u001b[0mreal\u001b[0m\u001b[0;34m(\u001b[0m\u001b[0mloadmat\u001b[0m\u001b[0;34m(\u001b[0m\u001b[0;34m\"./data/01/gamma.mat\"\u001b[0m\u001b[0;34m)\u001b[0m\u001b[0;34m[\u001b[0m\u001b[0;34m\"gamma\"\u001b[0m\u001b[0;34m]\u001b[0m\u001b[0;34m)\u001b[0m\u001b[0;34m)\u001b[0m\u001b[0;34m\u001b[0m\u001b[0;34m\u001b[0m\u001b[0m\n\u001b[0;32m----> 3\u001b[0;31m \u001b[0mtime\u001b[0m \u001b[0;34m=\u001b[0m \u001b[0mnp\u001b[0m\u001b[0;34m.\u001b[0m\u001b[0mravel\u001b[0m\u001b[0;34m(\u001b[0m\u001b[0mnp\u001b[0m\u001b[0;34m.\u001b[0m\u001b[0mreal\u001b[0m\u001b[0;34m(\u001b[0m\u001b[0mloadmat\u001b[0m\u001b[0;34m(\u001b[0m\u001b[0;34m\"./data/01/time.mat\"\u001b[0m\u001b[0;34m)\u001b[0m\u001b[0;34m[\u001b[0m\u001b[0;34m\"time_center\"\u001b[0m\u001b[0;34m]\u001b[0m\u001b[0;34m)\u001b[0m\u001b[0;34m)\u001b[0m \u001b[0;34m/\u001b[0m \u001b[0;34m(\u001b[0m\u001b[0mlambda0_d\u001b[0m \u001b[0;34m/\u001b[0m \u001b[0mc\u001b[0m\u001b[0;34m)\u001b[0m\u001b[0;34m\u001b[0m\u001b[0;34m\u001b[0m\u001b[0m\n\u001b[0m\u001b[1;32m      4\u001b[0m \u001b[0mlocation\u001b[0m \u001b[0;34m=\u001b[0m \u001b[0mnp\u001b[0m\u001b[0;34m.\u001b[0m\u001b[0mravel\u001b[0m\u001b[0;34m(\u001b[0m\u001b[0mnp\u001b[0m\u001b[0;34m.\u001b[0m\u001b[0mreal\u001b[0m\u001b[0;34m(\u001b[0m\u001b[0mloadmat\u001b[0m\u001b[0;34m(\u001b[0m\u001b[0;34m\"./data/01/location.mat\"\u001b[0m\u001b[0;34m)\u001b[0m\u001b[0;34m[\u001b[0m\u001b[0;34m\"loc_center\"\u001b[0m\u001b[0;34m]\u001b[0m\u001b[0;34m)\u001b[0m\u001b[0;34m)\u001b[0m \u001b[0;34m/\u001b[0m \u001b[0;34m(\u001b[0m\u001b[0mlambda0_d\u001b[0m\u001b[0;34m)\u001b[0m\u001b[0;34m\u001b[0m\u001b[0;34m\u001b[0m\u001b[0m\n\u001b[1;32m      5\u001b[0m \u001b[0mtime_transformed\u001b[0m \u001b[0;34m=\u001b[0m \u001b[0mnp\u001b[0m\u001b[0;34m.\u001b[0m\u001b[0mravel\u001b[0m\u001b[0;34m(\u001b[0m\u001b[0mnp\u001b[0m\u001b[0;34m.\u001b[0m\u001b[0mreal\u001b[0m\u001b[0;34m(\u001b[0m\u001b[0mloadmat\u001b[0m\u001b[0;34m(\u001b[0m\u001b[0;34m\"./data/01/time_transformed.mat\"\u001b[0m\u001b[0;34m)\u001b[0m\u001b[0;34m[\u001b[0m\u001b[0;34m\"t3\"\u001b[0m\u001b[0;34m]\u001b[0m\u001b[0;34m)\u001b[0m\u001b[0;34m)\u001b[0m\u001b[0;34m\u001b[0m\u001b[0;34m\u001b[0m\u001b[0m\n",
      "\u001b[0;31mNameError\u001b[0m: name 'lambda0_d' is not defined"
     ]
    }
   ],
   "source": [
    "beta = np.ravel(np.real(loadmat(\"./data/01/beta.mat\")[\"beta\"]))\n",
    "gamma = np.ravel(np.real(loadmat(\"./data/01/gamma.mat\")[\"gamma\"]))\n",
    "time = np.ravel(np.real(loadmat(\"./data/01/time.mat\")[\"time_center\"])) / (lambda0_d / c)\n",
    "location = np.ravel(np.real(loadmat(\"./data/01/location.mat\")[\"loc_center\"])) / (lambda0_d)\n",
    "time_transformed = np.ravel(np.real(loadmat(\"./data/01/time_transformed.mat\")[\"t3\"]))\n",
    "em_field = sdf.read(\"./data/01/field0149.sdf\")\n",
    "electron_density = sdf.read(\"./data/01/dens0149.sdf\") \n",
    "em_field_1 = sdf.read(\"./data/02/field0099.sdf\")\n",
    "em_field_2 = sdf.read(\"./data/03/field0099.sdf\")\n",
    "em_field_3 = sdf.read(\"./data/04/field0099.sdf\")\n",
    "em_field_4 = sdf.read(\"./data/05/field0099.sdf\")\n",
    "em_field_5 = sdf.read(\"./data/06/field0099.sdf\")\n",
    "part_1 = sdf.read(\"./data/02/part0050.sdf\")\n",
    "part_2 = sdf.read(\"./data/06/part0050.sdf\")"
   ]
  },
  {
   "cell_type": "markdown",
   "metadata": {},
   "source": [
    "### wake wave:"
   ]
  },
  {
   "cell_type": "code",
   "execution_count": null,
   "metadata": {},
   "outputs": [],
   "source": [
    "fig, ax = plt.subplots(1, 3, figsize=(22, 6))\n",
    "\n",
    "ax[0].plot(time, location, \".-\", color=\"blue\")\n",
    "ax[0].grid(False)\n",
    "ax[0].set_xlim(150, 450)\n",
    "ax[0].set_ylim(100, 400)\n",
    "ax[0].set_xlabel(r\"$ \\mathrm{t \\ / \\ T_0^d} $\", fontsize=24)\n",
    "ax[0].set_ylabel(r\"$ \\mathrm{x^{*} \\ / \\ \\lambda_0^d} $\", fontsize=24)\n",
    "ax[0].tick_params(axis=\"both\", which=\"major\", labelsize=20)\n",
    "ax[0].axvline(190, linestyle=\"--\", color=\"black\", linewidth=2)\n",
    "\n",
    "ax[1].plot(time, beta, \".-\", color=\"blue\")\n",
    "ax[1].grid(False)\n",
    "ax[1].set_xlim(150, 450)\n",
    "ax[1].set_ylim(0.7, 1)\n",
    "ax[1].set_xlabel(r\"$ \\mathrm{t \\ / \\ T_0^d} $\", fontsize=24)\n",
    "ax[1].set_ylabel(r\"$ \\mathrm{\\beta_w} $\", fontsize=24)\n",
    "ax[1].tick_params(axis=\"both\", which=\"major\", labelsize=20)\n",
    "ax[1].axvline(190, linestyle=\"--\", color=\"black\", linewidth=2)\n",
    "\n",
    "ax[2].plot(time, gamma, \".-\", color=\"blue\")\n",
    "ax[2].grid(False)\n",
    "ax[2].set_xlim(150, 450)\n",
    "ax[2].set_ylim(1, 9)\n",
    "ax[2].set_xlabel(r\"$ \\mathrm{t \\ / \\ T_0^d} $\", fontsize=24)\n",
    "ax[2].set_ylabel(r\"$ \\mathrm{\\gamma_w} $\", fontsize=24)\n",
    "ax[2].tick_params(axis=\"both\", which=\"major\", labelsize=20)\n",
    "ax[2].axvline(190, linestyle=\"--\", color=\"black\", linewidth=2)\n",
    "\n",
    "fig.tight_layout(pad=3)"
   ]
  },
  {
   "cell_type": "code",
   "execution_count": null,
   "metadata": {},
   "outputs": [],
   "source": [
    "### reflected radiation:"
   ]
  },
  {
   "cell_type": "code",
   "execution_count": null,
   "metadata": {},
   "outputs": [],
   "source": [
    "ez = em_field.Electric_Field_Ez.data / (m_e * c * omega0_s / elementary_charge)\n",
    "by = em_field.Magnetic_Field_By.data / (m_e * c * omega0_s / elementary_charge)\n",
    "reflected_wave = 0.5 * (ez - c * by) / a0_s\n",
    "transmitted_wave = 0.5 * (ez + c * by) / a0_s\n",
    "ne = electron_density.Derived_Number_Density_electron.data / nc_d\n",
    "ne_filtered = savgol_filter(ne, 501, 3)\n",
    "grid_x = em_field.Grid_Grid.data[0][0:-1] / lambda0_d"
   ]
  },
  {
   "cell_type": "code",
   "execution_count": null,
   "metadata": {},
   "outputs": [],
   "source": [
    "dx = (grid_x[1] - grid_x[0]) * lambda0_d\n",
    "index_1 = np.where(grid_x < 394.167)[0][-1]\n",
    "index_2 = np.where(grid_x > 412.125)[0][0]\n",
    "grid_x2 = grid_x[index_1:index_2 - 1]\n",
    "\n",
    "instantaneous_phase = np.unwrap(np.angle(hilbert(reflected_wave)))\n",
    "instantaneous_k = np.diff(instantaneous_phase[index_1:index_2]) / (dx * k0_s)\n",
    "envelope = np.abs(hilbert(reflected_wave))[index_1:index_2-1]\n",
    "refl_coef = (envelope / instantaneous_k)\n",
    "\n",
    "instantaneous_k_filtered = savgol_filter(instantaneous_k, 501, 3)\n",
    "envelope_filtered = savgol_filter(envelope, 501, 3)\n",
    "refl_coef_filtered = savgol_filter((envelope / instantaneous_k_filtered), 1001, 3)\n",
    "\n",
    "refl_coef_analytic = euler_gamma(2.0/3.0)**2 / (4.0 * 3.0**(4/3)) * (omega_pe / omega0_s)**(8/3) * gamma**(-4/3)\n",
    "upshift_analytic = 2.0 * gamma**2 + 2.0 * gamma * np.sqrt(gamma**2 - 1.0) * np.sqrt(1.0 - omega_pe**2/omega0_s**2) - 1.0\n",
    "amplification_analytic = upshift_analytic * np.sqrt(refl_coef_analytic)"
   ]
  },
  {
   "cell_type": "code",
   "execution_count": null,
   "metadata": {},
   "outputs": [],
   "source": [
    "fig, ax = plt.subplots(1, 3, figsize=(22, 6))\n",
    "\n",
    "ax[0].plot(grid_x, reflected_wave, color=\"blue\")\n",
    "ax[0].plot(grid_x, transmitted_wave, color=\"red\")\n",
    "ax[0].set_xlim(393, 413)\n",
    "ax[0].set_ylim(-8, 8)\n",
    "ax[0].set_xlabel(r\"$ \\mathrm{x \\ / \\ \\lambda_0^d} $\", fontsize=24, labelpad=10)\n",
    "ax[0].set_ylabel(r\"$ \\mathrm{1/2 \\ (E_z \\pm c B_y) \\ / \\ E_0^s} $\", fontsize=24)\n",
    "ax[0].tick_params(axis=\"both\", which=\"major\", labelsize=20)\n",
    "\n",
    "ax[1].plot(grid_x, ne, color=\"lightgray\")\n",
    "ax[1].plot(grid_x, ne_filtered, color=\"black\")\n",
    "ax[1].set_ylim(0.0, 0.2)\n",
    "ax[1].set_xlabel(r\"$ \\mathrm{x \\ / \\ \\lambda_0^d} $\", fontsize=24, labelpad=10)\n",
    "ax[1].set_ylabel(r\"$ \\mathrm{n_e \\ / \\ n_c^d} $\", fontsize=24)\n",
    "ax[1].tick_params(axis=\"both\", which=\"major\", labelsize=20)\n",
    "ax[1].get_yaxis().set_ticks([0, 0.05, 0.1])\n",
    "ax[1].yaxis.set_label_coords(-0.2, 0.25)\n",
    "\n",
    "ax1_b = ax[1].twinx()\n",
    "ax1_b.plot(grid_x, reflected_wave, color=\"blue\")\n",
    "ax1_b.set_xlim(408, 413)\n",
    "ax1_b.set_ylim(-15, 7)\n",
    "ax1_b.set_ylabel(r\"$ \\mathrm{1/2 \\ (E_z - c B_y) \\ / \\ E_0^s} $\", fontsize=24)\n",
    "ax1_b.tick_params(axis=\"both\", which=\"major\", labelsize=20)\n",
    "ax1_b.get_yaxis().set_ticks([-5, 0.0, 5])\n",
    "ax1_b.yaxis.set_label_coords(1.12, 0.65)\n",
    "\n",
    "ax[2].plot(grid_x2, instantaneous_k, color=\"lightblue\")\n",
    "ax[2].plot(grid_x2, instantaneous_k_filtered, color=\"blue\", linewidth=2)\n",
    "ax[2].set_xlim(393.5, 413)\n",
    "ax[2].set_ylim(0, 300)\n",
    "ax[2].set_xlabel(r\"$ \\mathrm{x \\ / \\ \\lambda_0^d} $\", fontsize=24, labelpad=10)\n",
    "ax[2].set_ylabel(r\"$ \\mathrm{k_{loc}^r \\ / \\ k_0^s} $\", fontsize=24)\n",
    "ax[2].tick_params(axis=\"both\", which=\"major\", labelsize=20)\n",
    "ax[2].get_xaxis().set_ticks([395, 400, 405, 410])\n",
    "\n",
    "fig.tight_layout(pad=3)"
   ]
  },
  {
   "cell_type": "code",
   "execution_count": null,
   "metadata": {},
   "outputs": [],
   "source": [
    "fig, ax = plt.subplots(1, 3, figsize=(22, 6))\n",
    "\n",
    "ax[0].plot(time_transformed, instantaneous_k, color=\"lightblue\")\n",
    "ax[0].plot(time_transformed, instantaneous_k_filtered, linewidth=2, color=\"blue\")\n",
    "ax[0].plot(time, upshift_analytic, \".-\", color=\"red\", linewidth=2)\n",
    "ax[0].grid(False)\n",
    "ax[0].set_xlim(150, 450)\n",
    "ax[0].set_ylim(0, 300)\n",
    "ax[0].set_xlabel(r\"$ \\mathrm{t \\ / \\ T_0^d} $\", fontsize=24)\n",
    "ax[0].set_ylabel(r\"$ \\mathrm{\\omega^r \\ / \\ \\omega_0^s} $\", fontsize=24)\n",
    "ax[0].tick_params(axis=\"both\", which=\"major\", labelsize=20)\n",
    "ax[0].axvline(190, linestyle=\"--\", color=\"black\", linewidth=2)\n",
    "\n",
    "ax[1].plot(time_transformed, envelope, color=\"lightblue\")\n",
    "ax[1].plot(time_transformed, envelope_filtered, color=\"blue\")\n",
    "ax[1].plot(time, amplification_analytic, \".-\", color=\"red\", linewidth=2)\n",
    "ax[1].grid(False)\n",
    "ax[1].set_xlim(150, 450)\n",
    "ax[1].set_ylim(0, 9)\n",
    "ax[1].set_xlabel(r\"$ \\mathrm{t \\ / \\ T_0^d} $\", fontsize=24)\n",
    "ax[1].set_ylabel(r\"$ \\mathrm{E_{env}^r \\ / \\ E_0^s} $\", fontsize=24)\n",
    "ax[1].tick_params(axis=\"both\", which=\"major\", labelsize=20)\n",
    "ax[1].axvline(190, linestyle=\"--\", color=\"black\", linewidth=2)\n",
    "\n",
    "ax[2].semilogy(time_transformed, refl_coef**2, color=\"lightblue\")\n",
    "ax[2].semilogy(time_transformed, refl_coef_filtered**2, color=\"blue\", linewidth=2)\n",
    "ax[2].semilogy(time, refl_coef_analytic, \".-\", color=\"red\", linewidth=2)\n",
    "ax[2].grid(False)\n",
    "ax[2].set_xlim(150, 450)\n",
    "ax[2].set_ylim(0.0001, 0.3)\n",
    "ax[2].set_xlabel(r\"$ \\mathrm{t \\ / \\ T_0^d} $\", fontsize=24)\n",
    "ax[2].set_ylabel(r\"$ \\mathrm{R \\ (\\omega_0^s)} $\", fontsize=24)\n",
    "ax[2].tick_params(axis=\"both\", which=\"major\", labelsize=20)\n",
    "ax[2].axvline(190, linestyle=\"--\", color=\"black\", linewidth=2)\n",
    "\n",
    "fig.tight_layout(pad=3)"
   ]
  },
  {
   "cell_type": "markdown",
   "metadata": {},
   "source": [
    "### energy threshold:"
   ]
  },
  {
   "cell_type": "code",
   "execution_count": null,
   "metadata": {},
   "outputs": [],
   "source": [
    "ez_1 = em_field_1.Electric_Field_Ez.data / (m_e * c * omega0_s / elementary_charge)\n",
    "by_1 = em_field_1.Magnetic_Field_By.data / (m_e * c * omega0_s / elementary_charge)\n",
    "grid_x_1 = em_field_1.Grid_Grid.data[0][0:-1] / lambda0_d"
   ]
  },
  {
   "cell_type": "code",
   "execution_count": null,
   "metadata": {},
   "outputs": [],
   "source": [
    "ez_2 = em_field_2.Electric_Field_Ez.data / (m_e * c * omega0_s / elementary_charge)\n",
    "by_2 = em_field_2.Magnetic_Field_By.data / (m_e * c * omega0_s / elementary_charge)\n",
    "grid_x_2 = em_field_2.Grid_Grid.data[0][0:-1] / lambda0_d"
   ]
  },
  {
   "cell_type": "code",
   "execution_count": null,
   "metadata": {},
   "outputs": [],
   "source": [
    "ez_3 = em_field_3.Electric_Field_Ez.data / (m_e * c * omega0_s / elementary_charge)\n",
    "by_3 = em_field_3.Magnetic_Field_By.data / (m_e * c * omega0_s / elementary_charge)\n",
    "grid_x_3 = em_field_3.Grid_Grid.data[0][0:-1] / lambda0_d"
   ]
  },
  {
   "cell_type": "code",
   "execution_count": null,
   "metadata": {},
   "outputs": [],
   "source": [
    "ez_4 = em_field_4.Electric_Field_Ez.data / (m_e * c * omega0_s / elementary_charge)\n",
    "by_4 = em_field_4.Magnetic_Field_By.data / (m_e * c * omega0_s / elementary_charge)\n",
    "grid_x_4 = em_field_4.Grid_Grid.data[0][0:-1] / lambda0_d"
   ]
  },
  {
   "cell_type": "code",
   "execution_count": null,
   "metadata": {},
   "outputs": [],
   "source": [
    "ez_5 = em_field_5.Electric_Field_Ez.data / (m_e * c * omega0_s / elementary_charge)\n",
    "by_5 = em_field_5.Magnetic_Field_By.data / (m_e * c * omega0_s / elementary_charge)\n",
    "grid_x_5 = em_field_5.Grid_Grid.data[0][0:-1] / lambda0_d"
   ]
  },
  {
   "cell_type": "code",
   "execution_count": null,
   "metadata": {},
   "outputs": [],
   "source": [
    "fig, ax = plt.subplots(5, 1, figsize=(8, 6))\n",
    "\n",
    "ax[0].plot(grid_x_1, 0.5 * (ez_1 - c * by_1) / 0.01, color=\"blue\")\n",
    "ax[0].set_xlim(238.0, 238.5)\n",
    "ax[0].set_ylim(-15, +15)\n",
    "ax[0].get_xaxis().set_ticklabels([])\n",
    "ax[0].tick_params(axis=\"both\", which=\"major\", labelsize=20)\n",
    "ax[0].text(238.52, 0, r\"$ \\mathrm{a_0^s = 0.01} $\", fontsize=20)\n",
    "\n",
    "ax[1].plot(grid_x_2, 0.5 * (ez_2 - c * by_2) / 0.05, color=\"blue\")\n",
    "ax[1].set_xlim(238.0, 238.5)\n",
    "ax[1].set_ylim(-15, +15)\n",
    "ax[1].get_xaxis().set_ticklabels([])\n",
    "ax[1].tick_params(axis=\"both\", which=\"major\", labelsize=20)\n",
    "ax[1].text(238.52, 0, r\"$ \\mathrm{a_0^s = 0.05} $\", fontsize=20)\n",
    "\n",
    "ax[2].plot(grid_x_3, 0.5 * (ez_3 - c * by_3) / 0.1, color=\"blue\")\n",
    "ax[2].set_xlim(238.0, 238.5)\n",
    "ax[2].set_ylim(-15, +15)\n",
    "ax[2].get_xaxis().set_ticklabels([])\n",
    "ax[2].tick_params(axis=\"both\", which=\"major\", labelsize=20)\n",
    "ax[2].text(238.52, 0, r\"$ \\mathrm{a_0^s = 0.10} $\", fontsize=20)\n",
    "\n",
    "ax[3].plot(grid_x_4, 0.5 * (ez_4 - c * by_4) / 0.5, color=\"blue\")\n",
    "ax[3].set_xlim(238.0, 238.5)\n",
    "ax[3].set_ylim(-15, +15)\n",
    "ax[3].get_xaxis().set_ticklabels([])\n",
    "ax[3].tick_params(axis=\"both\", which=\"major\", labelsize=20)\n",
    "ax[3].text(238.52, 0, r\"$ \\mathrm{a_0^s = 0.50} $\", fontsize=20)\n",
    "\n",
    "ax[4].plot(grid_x_5, 0.5 * (ez_5 - c * by_5) / 1.0, color=\"blue\")\n",
    "ax[4].set_xlim(238.0, 238.5)\n",
    "ax[4].set_ylim(-15, +15)\n",
    "ax[4].tick_params(axis=\"both\", which=\"major\", labelsize=20)\n",
    "ax[4].text(238.52, 0, r\"$ \\mathrm{a_0^s = 1.00} $\", fontsize=20)\n",
    "\n",
    "ax[2].set_ylabel(r\"$ \\mathrm{1/2 \\ (E_z - c B_y) \\ / \\ E_0^s} $\", fontsize=24, labelpad=30)\n",
    "ax[4].set_xlabel(r\"$ \\mathrm{x \\ / \\lambda_0^d} $\", fontsize=24, labelpad=10)"
   ]
  },
  {
   "cell_type": "markdown",
   "metadata": {},
   "source": [
    "### phase space:"
   ]
  },
  {
   "cell_type": "code",
   "execution_count": null,
   "metadata": {},
   "outputs": [],
   "source": [
    "electron_px_1 = part_1.Particles_Px_electron.data / (m_e * c)\n",
    "electron_x_1 = part_1.Grid_Particles_electron.data[0] / lambda0_d"
   ]
  },
  {
   "cell_type": "code",
   "execution_count": null,
   "metadata": {},
   "outputs": [],
   "source": [
    "electron_px_2 = part_2.Particles_Px_electron.data / (m_e * c)\n",
    "electron_x_2 = part_2.Grid_Particles_electron.data[0] / lambda0_d"
   ]
  },
  {
   "cell_type": "raw",
   "metadata": {},
   "source": [
    "fig, ax = plt.subplots(1, 2, figsize=(12, 5))\n",
    "ax[0].plot(electron_x_1, electron_px_1, '.', color=\"blue\", markersize=0.5, rasterized=True)\n",
    "ax[0].set_xlim(185, 195)\n",
    "ax[0].set_ylim(-10, 120)\n",
    "ax[0].set_xlabel(r\"$ \\mathrm{x \\ / \\ \\lambda_0^d} $\", fontsize=24, labelpad=10)\n",
    "ax[0].set_ylabel(r\"$ \\mathrm{p_x \\ / \\ m_e c} $\", fontsize=24, labelpad=10)\n",
    "ax[0].get_xaxis().set_ticks([185, 187, 189, 191, 193, 195])\n",
    "ax[0].tick_params(axis=\"both\", which=\"major\", labelsize=20)\n",
    "ax[0].grid(False)\n",
    "\n",
    "ax[1].plot(electron_x_2, electron_px_2, '.', color=\"blue\", markersize=0.1, rasterized=True)\n",
    "ax[1].set_xlim(185, 195)\n",
    "ax[1].set_ylim(-10, 50)\n",
    "ax[1].set_xlabel(r\"$ \\mathrm{x \\ / \\ \\lambda_0^d} $\", fontsize=24, labelpad=10)\n",
    "ax[1].set_ylabel(r\"$ \\mathrm{p_x \\ / \\ m_e c} $\", fontsize=24, labelpad=10)\n",
    "ax[1].get_xaxis().set_ticks([185, 187, 189, 191, 193, 195])\n",
    "ax[1].tick_params(axis=\"both\", which=\"major\", labelsize=20)\n",
    "ax[1].grid(False)\n",
    "\n",
    "fig.tight_layout(pad=3)"
   ]
  },
  {
   "cell_type": "code",
   "execution_count": null,
   "metadata": {},
   "outputs": [],
   "source": []
  },
  {
   "cell_type": "code",
   "execution_count": null,
   "metadata": {},
   "outputs": [],
   "source": []
  },
  {
   "cell_type": "code",
   "execution_count": null,
   "metadata": {},
   "outputs": [],
   "source": []
  }
 ],
 "metadata": {
  "kernelspec": {
   "display_name": "Python 3",
   "language": "python",
   "name": "python3"
  },
  "language_info": {
   "codemirror_mode": {
    "name": "ipython",
    "version": 3
   },
   "file_extension": ".py",
   "mimetype": "text/x-python",
   "name": "python",
   "nbconvert_exporter": "python",
   "pygments_lexer": "ipython3",
   "version": "3.8.2"
  }
 },
 "nbformat": 4,
 "nbformat_minor": 4
}
